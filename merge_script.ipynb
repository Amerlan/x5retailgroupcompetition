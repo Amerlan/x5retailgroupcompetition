{
 "cells": [
  {
   "cell_type": "code",
   "execution_count": 1,
   "metadata": {},
   "outputs": [],
   "source": [
    "#1\n",
    "import pandas as pd\n",
    "import numpy as np\n",
    "from sklearn import preprocessing\n",
    "le = preprocessing.LabelEncoder()"
   ]
  },
  {
   "cell_type": "code",
   "execution_count": null,
   "metadata": {},
   "outputs": [],
   "source": [
    "test = pd.read_csv('merged_test_purchases.csv')"
   ]
  },
  {
   "cell_type": "code",
   "execution_count": 2,
   "metadata": {},
   "outputs": [],
   "source": [
    "#2\n",
    "clients = pd.read_csv('clients.csv')"
   ]
  },
  {
   "cell_type": "code",
   "execution_count": 3,
   "metadata": {},
   "outputs": [],
   "source": [
    "#3\n",
    "clients['first_redeem_date'].fillna(clients['first_issue_date'], inplace = True)\n",
    "clients['first_issue_date1'] = clients['first_issue_date'].apply(lambda x: pd.to_datetime(x[:10]))\n",
    "clients['first_redeem_date1'] = clients['first_redeem_date'].apply(lambda x: pd.to_datetime(x[:10]))\n",
    "clients['dif_date'] = clients[['first_redeem_date','first_issue_date']].apply(lambda x: int(str(pd.to_datetime(x[0]) - pd.to_datetime(x[1])).split(' ')[0]), axis = 1)\n",
    "clients['dif_date'] = clients['dif_date'].apply(lambda x: x if x != -1 else 0)\n",
    "clients = clients.drop(labels = ['first_issue_date', 'first_redeem_date', 'first_redeem_date1', 'first_issue_date1'], axis = 1)\n",
    "clients['age'] = clients['age'].apply(lambda x: int(45) if (x > 80) | (x < 15) else int(x))\n",
    "clients['gender'] = le.fit_transform(clients['gender'])"
   ]
  },
  {
   "cell_type": "code",
   "execution_count": null,
   "metadata": {
    "scrolled": true
   },
   "outputs": [],
   "source": [
    "test = test.drop(labels = ['store_id', 'transaction_datetime', 'Unnamed: 0'], axis = 1)"
   ]
  },
  {
   "cell_type": "code",
   "execution_count": null,
   "metadata": {},
   "outputs": [],
   "source": [
    "test.head()"
   ]
  },
  {
   "cell_type": "code",
   "execution_count": null,
   "metadata": {},
   "outputs": [],
   "source": [
    "test = pd.merge(test, clients, on = 'client_id', how = 'left')"
   ]
  },
  {
   "cell_type": "code",
   "execution_count": 6,
   "metadata": {},
   "outputs": [],
   "source": [
    "#4\n",
    "clients['age'] = standart(clients['age'])\n",
    "clients['dif_date'] = standart(clients['dif_date'])\n",
    "clients['gender'] = standart(clients['gender'])"
   ]
  },
  {
   "cell_type": "code",
   "execution_count": null,
   "metadata": {},
   "outputs": [],
   "source": [
    "test = pd.merge(test, clients, on = 'client_id', how = 'left')"
   ]
  },
  {
   "cell_type": "code",
   "execution_count": null,
   "metadata": {
    "scrolled": true
   },
   "outputs": [],
   "source": [
    "test.to_csv('mergedwithclients.csv')"
   ]
  },
  {
   "cell_type": "code",
   "execution_count": null,
   "metadata": {},
   "outputs": [],
   "source": [
    "A = test[['trn_sum_from_iss', 'purchase_sum']][test['trn_sum_from_red'].isna() != True]\n",
    "B = test['trn_sum_from_red'][test['trn_sum_from_red'].isna() != True]\n",
    "C = np.linalg.inv(A.T@A)@A.T@B\n",
    "\n",
    "test['trn_sum_from_red'].fillna(C[0]*test['trn_sum_from_iss'] + C[1]*test['purchase_sum'], inplace = True)"
   ]
  },
  {
   "cell_type": "code",
   "execution_count": 5,
   "metadata": {},
   "outputs": [],
   "source": [
    "#5\n",
    "def standart(df): #Делай\n",
    "    df = df - df.mean()\n",
    "    df = df/np.linalg.norm(df)\n",
    "    return df"
   ]
  },
  {
   "cell_type": "code",
   "execution_count": null,
   "metadata": {},
   "outputs": [],
   "source": [
    "test.info()"
   ]
  },
  {
   "cell_type": "code",
   "execution_count": null,
   "metadata": {},
   "outputs": [],
   "source": [
    "cols = ['regular_points_received', 'express_points_received',\n",
    "       'regular_points_spent', 'express_points_spent', 'purchase_sum',\n",
    "       'product_quantity', 'trn_sum_from_iss',\n",
    "       'trn_sum_from_red']\n",
    "for x in cols:\n",
    "    test[x] = standart(test[x])"
   ]
  },
  {
   "cell_type": "code",
   "execution_count": null,
   "metadata": {},
   "outputs": [],
   "source": [
    "pd.merge(df,products, on = 'product_id', how = 'left')"
   ]
  },
  {
   "cell_type": "code",
   "execution_count": 7,
   "metadata": {},
   "outputs": [],
   "source": [
    "#6\n",
    "products = pd.read_csv('products.csv')"
   ]
  },
  {
   "cell_type": "code",
   "execution_count": 8,
   "metadata": {},
   "outputs": [],
   "source": [
    "#7\n",
    "products = products.drop(labels = ['level_1', 'level_2', 'level_3', 'level_4', 'segment_id', 'brand_id', 'vendor_id'], axis = 1)"
   ]
  },
  {
   "cell_type": "code",
   "execution_count": 9,
   "metadata": {},
   "outputs": [],
   "source": [
    "#8\n",
    "products['netto'] = products['netto'].fillna(products['netto'].mean())\n",
    "products['netto'] = standart(products['netto'])\n",
    "products['is_own_trademark'] = standart(products['is_own_trademark'])\n",
    "products['is_alcohol'] = standart(products['is_alcohol'])"
   ]
  },
  {
   "cell_type": "code",
   "execution_count": null,
   "metadata": {},
   "outputs": [],
   "source": []
  },
  {
   "cell_type": "code",
   "execution_count": null,
   "metadata": {},
   "outputs": [],
   "source": [
    "test = pd.merge(test, products, on = 'product_id', how = 'left')"
   ]
  },
  {
   "cell_type": "code",
   "execution_count": null,
   "metadata": {},
   "outputs": [],
   "source": [
    "#Делай\n",
    "rules_predict = {'client_id': 'min',\n",
    "        'transaction_id':'min',\n",
    "        'regular_points_received':['sum', 'mean'], \n",
    "         'express_points_received':['sum', 'mean'],\n",
    "         'regular_points_spent':['sum', 'mean'], \n",
    "         'express_points_spent':['sum', 'mean'],\n",
    "         'purchase_sum':['sum', 'mean'],\n",
    "         'product_quantity':['sum', 'mean'],\n",
    "        'trn_sum_from_iss':['sum', 'mean'],\n",
    "        'trn_sum_from_red':['sum', 'mean'],\n",
    "        'trn_sum_from_iss':['sum', 'mean'],\n",
    "        'trn_sum_from_red':['sum', 'mean'],\n",
    "        'netto':['sum', 'mean'],\n",
    "        'is_own_trademark':['sum', 'mean'],\n",
    "        'is_alcohol':['sum', 'mean'],\n",
    "        'age':'mean',\n",
    "        'gender': 'mean',\n",
    "        'dif_date':['sum', 'mean']}"
   ]
  },
  {
   "cell_type": "code",
   "execution_count": null,
   "metadata": {},
   "outputs": [],
   "source": [
    "len(rules_predict)"
   ]
  },
  {
   "cell_type": "code",
   "execution_count": null,
   "metadata": {},
   "outputs": [],
   "source": [
    "test = test.drop(labels = ['product_id'], axis = 1)"
   ]
  },
  {
   "cell_type": "code",
   "execution_count": null,
   "metadata": {},
   "outputs": [],
   "source": [
    "test = test.groupby('transaction_id').agg(rules_predict)"
   ]
  },
  {
   "cell_type": "code",
   "execution_count": null,
   "metadata": {},
   "outputs": [],
   "source": [
    "test.to_csv('agg1.csv')"
   ]
  },
  {
   "cell_type": "code",
   "execution_count": null,
   "metadata": {},
   "outputs": [],
   "source": [
    "test.reset_index()"
   ]
  },
  {
   "cell_type": "code",
   "execution_count": null,
   "metadata": {},
   "outputs": [],
   "source": [
    "test.columns = ['client_id', 'transaction_id', \n",
    "                    'regular_points_received_sum',\n",
    "                    'regular_points_received_mean', \n",
    "                    'express_points_received_sum',\n",
    "                    'express_points_received_mean',\n",
    "                    'regular_points_spent_sum', \n",
    "                    'regular_points_spent_mean', \n",
    "                    'express_points_spent_sum',\n",
    "                    'express_points_spent_mean', \n",
    "                    'purchase_sum_sum',\n",
    "                    'purchase_sum_mean',\n",
    "                    'product_quantity_sum',\n",
    "                    'product_quantity_mean',\n",
    "                    'trn_sum_from_iss_sum',\n",
    "                    'trn_sum_from_iss_mean',\n",
    "                    'trn_sum_from_red_sum',\n",
    "                    'trn_sum_from_red_mean',\n",
    "                    'netto_sum',\n",
    "                    'netto_mean',\n",
    "                    'is_own_trademark_sum',\n",
    "                    'is_own_trademark_mean',\n",
    "                    'is_alcohol_sum',\n",
    "                   'is_alcohol_mean',\n",
    "                   'age',\n",
    "                   'gender',\n",
    "               'dif_date_sum',\n",
    "               'dif_date_mean']"
   ]
  },
  {
   "cell_type": "code",
   "execution_count": null,
   "metadata": {},
   "outputs": [],
   "source": [
    "test = test.drop(labels = ['transaction_id'], axis = 1)"
   ]
  },
  {
   "cell_type": "code",
   "execution_count": null,
   "metadata": {},
   "outputs": [],
   "source": [
    "rules_predict2 = {'regular_points_received_sum':'sum',\n",
    "                    'regular_points_received_mean':'mean', \n",
    "                    'express_points_received_sum':'sum',\n",
    "                    'express_points_received_mean':'mean',\n",
    "                    'regular_points_spent_sum':'sum', \n",
    "                    'regular_points_spent_mean':'mean', \n",
    "                    'express_points_spent_sum':'sum',\n",
    "                    'express_points_spent_mean':'mean', \n",
    "                    'purchase_sum_sum':'sum',\n",
    "                    'purchase_sum_mean':'mean',\n",
    "                    'product_quantity_sum':'sum',\n",
    "                    'product_quantity_mean':'mean',\n",
    "                    'trn_sum_from_iss_sum':'sum',\n",
    "                    'trn_sum_from_iss_mean':'mean',\n",
    "                    'trn_sum_from_red_sum':'sum',\n",
    "                    'trn_sum_from_red_mean':'mean',\n",
    "                    'netto_sum':'sum',\n",
    "                    'netto_mean':'mean',\n",
    "                    'is_own_trademark_sum':'sum',\n",
    "                    'is_own_trademark_mean':'mean',\n",
    "                    'is_alcohol_sum':'sum',\n",
    "                   'is_alcohol_mean':'mean',\n",
    "                   'age':'mean',\n",
    "                   'gender':'mean',\n",
    "               'dif_date_sum':'sum',\n",
    "               'dif_date_mean':'mean'}"
   ]
  },
  {
   "cell_type": "code",
   "execution_count": null,
   "metadata": {},
   "outputs": [],
   "source": [
    "test = test.groupby('client_id').agg(rules_predict2)"
   ]
  },
  {
   "cell_type": "code",
   "execution_count": null,
   "metadata": {},
   "outputs": [],
   "source": [
    "test.to_csv('readyforpredict.csv')"
   ]
  },
  {
   "cell_type": "code",
   "execution_count": 44,
   "metadata": {},
   "outputs": [],
   "source": [
    "train = pd.read_csv('saveme.csv')"
   ]
  },
  {
   "cell_type": "code",
   "execution_count": 45,
   "metadata": {},
   "outputs": [],
   "source": [
    "train = train.drop(labels = ['Unnamed: 0'], axis = 1)"
   ]
  },
  {
   "cell_type": "code",
   "execution_count": 46,
   "metadata": {},
   "outputs": [],
   "source": [
    "A = train[['trn_sum_from_iss', 'purchase_sum']][train['trn_sum_from_red'].isna() != True]\n",
    "B = train['trn_sum_from_red'][train['trn_sum_from_red'].isna() != True]\n",
    "C = np.linalg.inv(A.T@A)@A.T@B\n",
    "\n",
    "train['trn_sum_from_red'].fillna(C[0]*train['trn_sum_from_iss'] + C[1]*train['purchase_sum'], inplace = True)"
   ]
  },
  {
   "cell_type": "code",
   "execution_count": null,
   "metadata": {},
   "outputs": [],
   "source": [
    "train = pd.merge(train, clients, on = 'client_id', how = 'left')"
   ]
  },
  {
   "cell_type": "code",
   "execution_count": 47,
   "metadata": {},
   "outputs": [],
   "source": [
    "x = []\n",
    "for y in train[['treatment_flg','target']].values:\n",
    "    x.append(y[0]*y[1])\n",
    "train['res'] = x"
   ]
  },
  {
   "cell_type": "code",
   "execution_count": 48,
   "metadata": {},
   "outputs": [],
   "source": [
    "train = train.drop(labels = ['treatment_flg','target'], axis = 1)"
   ]
  },
  {
   "cell_type": "code",
   "execution_count": 49,
   "metadata": {},
   "outputs": [],
   "source": [
    "cols = ['regular_points_received', 'express_points_received',\n",
    "       'regular_points_spent', 'express_points_spent', 'purchase_sum',\n",
    "       'product_quantity', 'trn_sum_from_iss',\n",
    "       'trn_sum_from_red']\n",
    "for x in cols:\n",
    "    train[x] = standart(train[x])"
   ]
  },
  {
   "cell_type": "code",
   "execution_count": 53,
   "metadata": {},
   "outputs": [],
   "source": [
    "train = train.drop(labels = ['transaction_datetime', 'store_id'], axis = 1)"
   ]
  },
  {
   "cell_type": "code",
   "execution_count": null,
   "metadata": {},
   "outputs": [],
   "source": []
  },
  {
   "cell_type": "code",
   "execution_count": 56,
   "metadata": {},
   "outputs": [],
   "source": [
    "train = pd.merge(train, clients, on ='client_id', how = 'left')"
   ]
  },
  {
   "cell_type": "code",
   "execution_count": 57,
   "metadata": {},
   "outputs": [],
   "source": [
    "train = pd.merge(train, products, on = 'product_id', how = 'left')"
   ]
  },
  {
   "cell_type": "code",
   "execution_count": 58,
   "metadata": {},
   "outputs": [
    {
     "data": {
      "text/html": [
       "<div>\n",
       "<style scoped>\n",
       "    .dataframe tbody tr th:only-of-type {\n",
       "        vertical-align: middle;\n",
       "    }\n",
       "\n",
       "    .dataframe tbody tr th {\n",
       "        vertical-align: top;\n",
       "    }\n",
       "\n",
       "    .dataframe thead th {\n",
       "        text-align: right;\n",
       "    }\n",
       "</style>\n",
       "<table border=\"1\" class=\"dataframe\">\n",
       "  <thead>\n",
       "    <tr style=\"text-align: right;\">\n",
       "      <th></th>\n",
       "      <th>0</th>\n",
       "      <th>1</th>\n",
       "    </tr>\n",
       "  </thead>\n",
       "  <tbody>\n",
       "    <tr>\n",
       "      <th>client_id</th>\n",
       "      <td>000012768d</td>\n",
       "      <td>000012768d</td>\n",
       "    </tr>\n",
       "    <tr>\n",
       "      <th>transaction_id</th>\n",
       "      <td>7e3e2e3984</td>\n",
       "      <td>7e3e2e3984</td>\n",
       "    </tr>\n",
       "    <tr>\n",
       "      <th>regular_points_received</th>\n",
       "      <td>3.19298e-05</td>\n",
       "      <td>3.19298e-05</td>\n",
       "    </tr>\n",
       "    <tr>\n",
       "      <th>express_points_received</th>\n",
       "      <td>-5.24918e-06</td>\n",
       "      <td>-5.24918e-06</td>\n",
       "    </tr>\n",
       "    <tr>\n",
       "      <th>regular_points_spent</th>\n",
       "      <td>3.05809e-05</td>\n",
       "      <td>3.05809e-05</td>\n",
       "    </tr>\n",
       "    <tr>\n",
       "      <th>express_points_spent</th>\n",
       "      <td>2.02216e-05</td>\n",
       "      <td>2.02216e-05</td>\n",
       "    </tr>\n",
       "    <tr>\n",
       "      <th>purchase_sum</th>\n",
       "      <td>6.07533e-05</td>\n",
       "      <td>6.07533e-05</td>\n",
       "    </tr>\n",
       "    <tr>\n",
       "      <th>product_id</th>\n",
       "      <td>9a80204f78</td>\n",
       "      <td>da89ebd374</td>\n",
       "    </tr>\n",
       "    <tr>\n",
       "      <th>product_quantity</th>\n",
       "      <td>0.000143046</td>\n",
       "      <td>-4.66627e-05</td>\n",
       "    </tr>\n",
       "    <tr>\n",
       "      <th>trn_sum_from_iss</th>\n",
       "      <td>1.58732e-05</td>\n",
       "      <td>-2.0321e-05</td>\n",
       "    </tr>\n",
       "    <tr>\n",
       "      <th>trn_sum_from_red</th>\n",
       "      <td>1.55561e-05</td>\n",
       "      <td>-2.06337e-05</td>\n",
       "    </tr>\n",
       "    <tr>\n",
       "      <th>res</th>\n",
       "      <td>0</td>\n",
       "      <td>0</td>\n",
       "    </tr>\n",
       "    <tr>\n",
       "      <th>age</th>\n",
       "      <td>-0.000102356</td>\n",
       "      <td>-0.000102356</td>\n",
       "    </tr>\n",
       "    <tr>\n",
       "      <th>gender</th>\n",
       "      <td>0.00157585</td>\n",
       "      <td>0.00157585</td>\n",
       "    </tr>\n",
       "    <tr>\n",
       "      <th>dif_date</th>\n",
       "      <td>-0.000120106</td>\n",
       "      <td>-0.000120106</td>\n",
       "    </tr>\n",
       "    <tr>\n",
       "      <th>netto</th>\n",
       "      <td>-0.000294768</td>\n",
       "      <td>-7.97941e-05</td>\n",
       "    </tr>\n",
       "    <tr>\n",
       "      <th>is_own_trademark</th>\n",
       "      <td>-0.000920423</td>\n",
       "      <td>0.0252441</td>\n",
       "    </tr>\n",
       "    <tr>\n",
       "      <th>is_alcohol</th>\n",
       "      <td>-0.00116961</td>\n",
       "      <td>-0.00116961</td>\n",
       "    </tr>\n",
       "  </tbody>\n",
       "</table>\n",
       "</div>"
      ],
      "text/plain": [
       "                                   0            1\n",
       "client_id                 000012768d   000012768d\n",
       "transaction_id            7e3e2e3984   7e3e2e3984\n",
       "regular_points_received  3.19298e-05  3.19298e-05\n",
       "express_points_received -5.24918e-06 -5.24918e-06\n",
       "regular_points_spent     3.05809e-05  3.05809e-05\n",
       "express_points_spent     2.02216e-05  2.02216e-05\n",
       "purchase_sum             6.07533e-05  6.07533e-05\n",
       "product_id                9a80204f78   da89ebd374\n",
       "product_quantity         0.000143046 -4.66627e-05\n",
       "trn_sum_from_iss         1.58732e-05  -2.0321e-05\n",
       "trn_sum_from_red         1.55561e-05 -2.06337e-05\n",
       "res                                0            0\n",
       "age                     -0.000102356 -0.000102356\n",
       "gender                    0.00157585   0.00157585\n",
       "dif_date                -0.000120106 -0.000120106\n",
       "netto                   -0.000294768 -7.97941e-05\n",
       "is_own_trademark        -0.000920423    0.0252441\n",
       "is_alcohol               -0.00116961  -0.00116961"
      ]
     },
     "execution_count": 58,
     "metadata": {},
     "output_type": "execute_result"
    }
   ],
   "source": [
    "train.head(2).T"
   ]
  },
  {
   "cell_type": "code",
   "execution_count": 59,
   "metadata": {},
   "outputs": [],
   "source": [
    "rules_predict = {'client_id': 'min',\n",
    "        'regular_points_received':['sum', 'mean'], \n",
    "         'express_points_received':['sum', 'mean'],\n",
    "         'regular_points_spent':['sum', 'mean'], \n",
    "         'express_points_spent':['sum', 'mean'],\n",
    "         'purchase_sum':['sum', 'mean'],\n",
    "         'product_quantity':['sum', 'mean'],\n",
    "        'trn_sum_from_iss':['sum', 'mean'],\n",
    "        'trn_sum_from_red':['sum', 'mean'],\n",
    "        'trn_sum_from_iss':['sum', 'mean'],\n",
    "        'trn_sum_from_red':['sum', 'mean'],\n",
    "        'netto':['sum', 'mean'],\n",
    "        'is_own_trademark':['sum', 'mean'],\n",
    "        'is_alcohol':['sum', 'mean'],\n",
    "        'age':'mean',\n",
    "        'gender': 'mean',\n",
    "        'dif_date':'mean',\n",
    "        'res':'mean'}"
   ]
  },
  {
   "cell_type": "code",
   "execution_count": 39,
   "metadata": {},
   "outputs": [],
   "source": [
    "train.drop(labels = 'product_id', axis = 1, inplace = True)"
   ]
  },
  {
   "cell_type": "code",
   "execution_count": 60,
   "metadata": {},
   "outputs": [],
   "source": [
    "train = train.groupby('transaction_id').agg(rules_predict)"
   ]
  },
  {
   "cell_type": "code",
   "execution_count": 63,
   "metadata": {},
   "outputs": [
    {
     "data": {
      "text/html": [
       "<div>\n",
       "<style scoped>\n",
       "    .dataframe tbody tr th:only-of-type {\n",
       "        vertical-align: middle;\n",
       "    }\n",
       "\n",
       "    .dataframe tbody tr th {\n",
       "        vertical-align: top;\n",
       "    }\n",
       "\n",
       "    .dataframe thead th {\n",
       "        text-align: right;\n",
       "    }\n",
       "</style>\n",
       "<table border=\"1\" class=\"dataframe\">\n",
       "  <thead>\n",
       "    <tr style=\"text-align: right;\">\n",
       "      <th>transaction_id</th>\n",
       "      <th>0000033e06</th>\n",
       "      <th>00000ae190</th>\n",
       "    </tr>\n",
       "  </thead>\n",
       "  <tbody>\n",
       "    <tr>\n",
       "      <th>client_id</th>\n",
       "      <td>42ea7275e0</td>\n",
       "      <td>91d51e9bd2</td>\n",
       "    </tr>\n",
       "    <tr>\n",
       "      <th>regular_points_received_sum</th>\n",
       "      <td>-0.000669818</td>\n",
       "      <td>-0.000255901</td>\n",
       "    </tr>\n",
       "    <tr>\n",
       "      <th>regular_points_received_mean</th>\n",
       "      <td>-0.000111636</td>\n",
       "      <td>-0.000127951</td>\n",
       "    </tr>\n",
       "    <tr>\n",
       "      <th>express_points_received_sum</th>\n",
       "      <td>-3.14951e-05</td>\n",
       "      <td>-1.04984e-05</td>\n",
       "    </tr>\n",
       "    <tr>\n",
       "      <th>express_points_received_mean</th>\n",
       "      <td>-5.24918e-06</td>\n",
       "      <td>-5.24918e-06</td>\n",
       "    </tr>\n",
       "    <tr>\n",
       "      <th>regular_points_spent_sum</th>\n",
       "      <td>0.000183485</td>\n",
       "      <td>6.11617e-05</td>\n",
       "    </tr>\n",
       "    <tr>\n",
       "      <th>regular_points_spent_mean</th>\n",
       "      <td>3.05809e-05</td>\n",
       "      <td>3.05809e-05</td>\n",
       "    </tr>\n",
       "    <tr>\n",
       "      <th>express_points_spent_sum</th>\n",
       "      <td>0.00012133</td>\n",
       "      <td>4.04432e-05</td>\n",
       "    </tr>\n",
       "    <tr>\n",
       "      <th>express_points_spent_mean</th>\n",
       "      <td>2.02216e-05</td>\n",
       "      <td>2.02216e-05</td>\n",
       "    </tr>\n",
       "    <tr>\n",
       "      <th>purchase_sum_sum</th>\n",
       "      <td>-0.000834104</td>\n",
       "      <td>-0.000378461</td>\n",
       "    </tr>\n",
       "    <tr>\n",
       "      <th>purchase_sum_mean</th>\n",
       "      <td>-0.000139017</td>\n",
       "      <td>-0.000189231</td>\n",
       "    </tr>\n",
       "    <tr>\n",
       "      <th>product_quantity_sum</th>\n",
       "      <td>-9.02677e-05</td>\n",
       "      <td>9.63831e-05</td>\n",
       "    </tr>\n",
       "    <tr>\n",
       "      <th>product_quantity_mean</th>\n",
       "      <td>-1.50446e-05</td>\n",
       "      <td>4.81915e-05</td>\n",
       "    </tr>\n",
       "    <tr>\n",
       "      <th>trn_sum_from_iss_sum</th>\n",
       "      <td>-0.000464564</td>\n",
       "      <td>-0.0002192</td>\n",
       "    </tr>\n",
       "    <tr>\n",
       "      <th>trn_sum_from_iss_mean</th>\n",
       "      <td>-7.74273e-05</td>\n",
       "      <td>-0.0001096</td>\n",
       "    </tr>\n",
       "    <tr>\n",
       "      <th>trn_sum_from_red_sum</th>\n",
       "      <td>-0.000473091</td>\n",
       "      <td>-0.000222595</td>\n",
       "    </tr>\n",
       "    <tr>\n",
       "      <th>trn_sum_from_red_mean</th>\n",
       "      <td>-7.88485e-05</td>\n",
       "      <td>-0.000111298</td>\n",
       "    </tr>\n",
       "    <tr>\n",
       "      <th>netto_sum</th>\n",
       "      <td>-0.00123438</td>\n",
       "      <td>-0.000554581</td>\n",
       "    </tr>\n",
       "    <tr>\n",
       "      <th>netto_mean</th>\n",
       "      <td>-0.00020573</td>\n",
       "      <td>-0.00027729</td>\n",
       "    </tr>\n",
       "    <tr>\n",
       "      <th>is_own_trademark_sum</th>\n",
       "      <td>0.020642</td>\n",
       "      <td>0.0243237</td>\n",
       "    </tr>\n",
       "    <tr>\n",
       "      <th>is_own_trademark_mean</th>\n",
       "      <td>0.00344034</td>\n",
       "      <td>0.0121619</td>\n",
       "    </tr>\n",
       "    <tr>\n",
       "      <th>is_alcohol_sum</th>\n",
       "      <td>-0.00701767</td>\n",
       "      <td>-0.00233922</td>\n",
       "    </tr>\n",
       "    <tr>\n",
       "      <th>is_alcohol_mean</th>\n",
       "      <td>-0.00116961</td>\n",
       "      <td>-0.00116961</td>\n",
       "    </tr>\n",
       "    <tr>\n",
       "      <th>age</th>\n",
       "      <td>-0.000412509</td>\n",
       "      <td>-0.00258358</td>\n",
       "    </tr>\n",
       "    <tr>\n",
       "      <th>gender</th>\n",
       "      <td>0.00157585</td>\n",
       "      <td>-0.000165621</td>\n",
       "    </tr>\n",
       "    <tr>\n",
       "      <th>dif_date_mean</th>\n",
       "      <td>-0.00104172</td>\n",
       "      <td>-0.00164277</td>\n",
       "    </tr>\n",
       "    <tr>\n",
       "      <th>res</th>\n",
       "      <td>0</td>\n",
       "      <td>0</td>\n",
       "    </tr>\n",
       "  </tbody>\n",
       "</table>\n",
       "</div>"
      ],
      "text/plain": [
       "transaction_id                 0000033e06   00000ae190\n",
       "client_id                      42ea7275e0   91d51e9bd2\n",
       "regular_points_received_sum  -0.000669818 -0.000255901\n",
       "regular_points_received_mean -0.000111636 -0.000127951\n",
       "express_points_received_sum  -3.14951e-05 -1.04984e-05\n",
       "express_points_received_mean -5.24918e-06 -5.24918e-06\n",
       "regular_points_spent_sum      0.000183485  6.11617e-05\n",
       "regular_points_spent_mean     3.05809e-05  3.05809e-05\n",
       "express_points_spent_sum       0.00012133  4.04432e-05\n",
       "express_points_spent_mean     2.02216e-05  2.02216e-05\n",
       "purchase_sum_sum             -0.000834104 -0.000378461\n",
       "purchase_sum_mean            -0.000139017 -0.000189231\n",
       "product_quantity_sum         -9.02677e-05  9.63831e-05\n",
       "product_quantity_mean        -1.50446e-05  4.81915e-05\n",
       "trn_sum_from_iss_sum         -0.000464564   -0.0002192\n",
       "trn_sum_from_iss_mean        -7.74273e-05   -0.0001096\n",
       "trn_sum_from_red_sum         -0.000473091 -0.000222595\n",
       "trn_sum_from_red_mean        -7.88485e-05 -0.000111298\n",
       "netto_sum                     -0.00123438 -0.000554581\n",
       "netto_mean                    -0.00020573  -0.00027729\n",
       "is_own_trademark_sum             0.020642    0.0243237\n",
       "is_own_trademark_mean          0.00344034    0.0121619\n",
       "is_alcohol_sum                -0.00701767  -0.00233922\n",
       "is_alcohol_mean               -0.00116961  -0.00116961\n",
       "age                          -0.000412509  -0.00258358\n",
       "gender                         0.00157585 -0.000165621\n",
       "dif_date_mean                 -0.00104172  -0.00164277\n",
       "res                                     0            0"
      ]
     },
     "execution_count": 63,
     "metadata": {},
     "output_type": "execute_result"
    }
   ],
   "source": [
    "train.head(2).T"
   ]
  },
  {
   "cell_type": "code",
   "execution_count": 72,
   "metadata": {},
   "outputs": [],
   "source": [
    "train.columns = ['client_id', \n",
    "                    'regular_points_received_sum',\n",
    "                    'regular_points_received_mean', \n",
    "                    'express_points_received_sum',\n",
    "                    'express_points_received_mean',\n",
    "                    'regular_points_spent_sum', \n",
    "                    'regular_points_spent_mean', \n",
    "                    'express_points_spent_sum',\n",
    "                    'express_points_spent_mean', \n",
    "                    'purchase_sum_sum',\n",
    "                    'purchase_sum_mean',\n",
    "                    'product_quantity_sum',\n",
    "                    'product_quantity_mean',\n",
    "                    'trn_sum_from_iss_sum',\n",
    "                    'trn_sum_from_iss_mean',\n",
    "                    'trn_sum_from_red_sum',\n",
    "                    'trn_sum_from_red_mean',\n",
    "                    'netto_sum',\n",
    "                    'netto_mean',\n",
    "                    'is_own_trademark_sum',\n",
    "                    'is_own_trademark_mean',\n",
    "                    'is_alcohol_sum',\n",
    "                   'is_alcohol_mean',\n",
    "                   'age',\n",
    "                   'gender',\n",
    "               'dif_date',\n",
    "                'res']"
   ]
  },
  {
   "cell_type": "code",
   "execution_count": 77,
   "metadata": {},
   "outputs": [],
   "source": [
    "rules_predict2 = {'regular_points_received_sum':'sum',\n",
    "                    'regular_points_received_mean':'mean', \n",
    "                    'express_points_received_sum':'sum',\n",
    "                    'express_points_received_mean':'mean',\n",
    "                    'regular_points_spent_sum':'sum', \n",
    "                    'regular_points_spent_mean':'mean', \n",
    "                    'express_points_spent_sum':'sum',\n",
    "                    'express_points_spent_mean':'mean', \n",
    "                    'purchase_sum_sum':'sum',\n",
    "                    'purchase_sum_mean':'mean',\n",
    "                    'product_quantity_sum':'sum',\n",
    "                    'product_quantity_mean':'mean',\n",
    "                    'trn_sum_from_iss_sum':'sum',\n",
    "                    'trn_sum_from_iss_mean':'mean',\n",
    "                    'trn_sum_from_red_sum':'sum',\n",
    "                    'trn_sum_from_red_mean':'mean',\n",
    "                    'netto_sum':'sum',\n",
    "                    'netto_mean':'mean',\n",
    "                    'is_own_trademark_sum':'sum',\n",
    "                    'is_own_trademark_mean':'mean',\n",
    "                    'is_alcohol_sum':'sum',\n",
    "                   'is_alcohol_mean':'mean',\n",
    "                   'age':'mean',\n",
    "                   'gender':'mean',\n",
    "                   'dif_date':'mean',\n",
    "                 'res':'mean'}"
   ]
  },
  {
   "cell_type": "code",
   "execution_count": 74,
   "metadata": {},
   "outputs": [
    {
     "data": {
      "text/plain": [
       "Index(['client_id', 'regular_points_received_sum',\n",
       "       'regular_points_received_mean', 'express_points_received_sum',\n",
       "       'express_points_received_mean', 'regular_points_spent_sum',\n",
       "       'regular_points_spent_mean', 'express_points_spent_sum',\n",
       "       'express_points_spent_mean', 'purchase_sum_sum', 'purchase_sum_mean',\n",
       "       'product_quantity_sum', 'product_quantity_mean', 'trn_sum_from_iss_sum',\n",
       "       'trn_sum_from_iss_mean', 'trn_sum_from_red_sum',\n",
       "       'trn_sum_from_red_mean', 'netto_sum', 'netto_mean',\n",
       "       'is_own_trademark_sum', 'is_own_trademark_mean', 'is_alcohol_sum',\n",
       "       'is_alcohol_mean', 'age', 'gender', 'dif_date', 'res'],\n",
       "      dtype='object')"
      ]
     },
     "execution_count": 74,
     "metadata": {},
     "output_type": "execute_result"
    }
   ],
   "source": [
    "train.columns"
   ]
  },
  {
   "cell_type": "code",
   "execution_count": 79,
   "metadata": {},
   "outputs": [],
   "source": [
    "train = train.groupby('client_id').agg(rules_predict2)"
   ]
  },
  {
   "cell_type": "code",
   "execution_count": 81,
   "metadata": {},
   "outputs": [],
   "source": [
    "train.to_csv('trainforpredict.csv')"
   ]
  },
  {
   "cell_type": "code",
   "execution_count": null,
   "metadata": {},
   "outputs": [],
   "source": []
  }
 ],
 "metadata": {
  "kernelspec": {
   "display_name": "Python 3",
   "language": "python",
   "name": "python3"
  },
  "language_info": {
   "codemirror_mode": {
    "name": "ipython",
    "version": 3
   },
   "file_extension": ".py",
   "mimetype": "text/x-python",
   "name": "python",
   "nbconvert_exporter": "python",
   "pygments_lexer": "ipython3",
   "version": "3.7.3"
  }
 },
 "nbformat": 4,
 "nbformat_minor": 2
}
